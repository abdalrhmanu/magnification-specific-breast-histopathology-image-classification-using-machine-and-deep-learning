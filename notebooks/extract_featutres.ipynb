{
 "cells": [
  {
   "cell_type": "code",
   "execution_count": 1,
   "metadata": {},
   "outputs": [
    {
     "name": "stderr",
     "output_type": "stream",
     "text": [
      "\u001b[32m2023-06-09 17:29:53.624\u001b[0m | \u001b[1mINFO    \u001b[0m | \u001b[36mextract_features\u001b[0m:\u001b[36m__init__\u001b[0m:\u001b[36m26\u001b[0m - \u001b[1mClass Initialized: {'base_model': <keras.engine.functional.Functional object at 0x000001FFD1E23850>, 'n_features': 1500}\u001b[0m\n"
     ]
    }
   ],
   "source": [
    "import sys\n",
    "sys.path.append('../helpers/')\n",
    "\n",
    "from tensorflow.keras.applications.densenet import DenseNet169, preprocess_input\n",
    "from tensorflow.keras.models import Model\n",
    "\n",
    "from extract_features import FeatureExtractor\n",
    "\n",
    "fe = FeatureExtractor()\n",
    "\n",
    "# To allow auto reload to this notebook after modifying any external file imported\n",
    "%load_ext autoreload\n",
    "%autoreload 2"
   ]
  },
  {
   "cell_type": "code",
   "execution_count": 2,
   "metadata": {},
   "outputs": [],
   "source": [
    "# features, labels, encoded_labels = fe.extract_features('40X', 'train')\n",
    "# features, labels, encoded_labels = fe.extract_features('40X', 'validation')\n",
    "# features, labels, encoded_labels = fe.extract_features('40X', 'test')"
   ]
  },
  {
   "cell_type": "code",
   "execution_count": 12,
   "metadata": {},
   "outputs": [
    {
     "data": {
      "text/plain": [
       "(600, 15000)"
      ]
     },
     "execution_count": 12,
     "metadata": {},
     "output_type": "execute_result"
    }
   ],
   "source": [
    "# features.shape"
   ]
  },
  {
   "cell_type": "code",
   "execution_count": 5,
   "metadata": {},
   "outputs": [
    {
     "name": "stderr",
     "output_type": "stream",
     "text": [
      "\u001b[32m2023-06-09 17:39:49.284\u001b[0m | \u001b[1mINFO    \u001b[0m | \u001b[36mextract_features\u001b[0m:\u001b[36mfeature_selection\u001b[0m:\u001b[36m78\u001b[0m - \u001b[1mStarting feature selection on train split...\u001b[0m\n",
      "\u001b[32m2023-06-09 17:41:13.440\u001b[0m | \u001b[1mINFO    \u001b[0m | \u001b[36mextract_features\u001b[0m:\u001b[36mfeature_selection\u001b[0m:\u001b[36m117\u001b[0m - \u001b[1mFinished feature selection on train split. New dimensions are (995, 121)\u001b[0m\n",
      "\u001b[32m2023-06-09 17:41:13.571\u001b[0m | \u001b[1mINFO    \u001b[0m | \u001b[36mextract_features\u001b[0m:\u001b[36mfeature_selection\u001b[0m:\u001b[36m78\u001b[0m - \u001b[1mStarting feature selection on validation split...\u001b[0m\n",
      "\u001b[32m2023-06-09 17:42:32.804\u001b[0m | \u001b[1mINFO    \u001b[0m | \u001b[36mextract_features\u001b[0m:\u001b[36mfeature_selection\u001b[0m:\u001b[36m117\u001b[0m - \u001b[1mFinished feature selection on validation split. New dimensions are (995, 121)\u001b[0m\n",
      "\u001b[32m2023-06-09 17:42:32.904\u001b[0m | \u001b[1mINFO    \u001b[0m | \u001b[36mextract_features\u001b[0m:\u001b[36mfeature_selection\u001b[0m:\u001b[36m78\u001b[0m - \u001b[1mStarting feature selection on test split...\u001b[0m\n",
      "\u001b[32m2023-06-09 17:43:55.257\u001b[0m | \u001b[1mINFO    \u001b[0m | \u001b[36mextract_features\u001b[0m:\u001b[36mfeature_selection\u001b[0m:\u001b[36m117\u001b[0m - \u001b[1mFinished feature selection on test split. New dimensions are (995, 121)\u001b[0m\n"
     ]
    }
   ],
   "source": [
    "csv_directory_train = r\"../out/features/breakhis_features_train.csv\"\n",
    "csv_directory_validation = r\"../out/features/breakhis_features_validation.csv\"\n",
    "csv_directory_test = r\"../out/features/breakhis_features_test.csv\"\n",
    "\n",
    "max_selected_features = 120\n",
    "\n",
    "selected_features_train = fe.feature_selection(csv_directory_train, max_selected_features, 'train')\n",
    "selected_features_train = fe.feature_selection(csv_directory_train, max_selected_features, 'validation')\n",
    "selected_features_train = fe.feature_selection(csv_directory_train, max_selected_features, 'test')\n"
   ]
  },
  {
   "cell_type": "code",
   "execution_count": null,
   "metadata": {},
   "outputs": [],
   "source": []
  },
  {
   "cell_type": "code",
   "execution_count": null,
   "metadata": {},
   "outputs": [],
   "source": []
  }
 ],
 "metadata": {
  "kernelspec": {
   "display_name": "Python 3 (ipykernel)",
   "language": "python",
   "name": "python3"
  },
  "language_info": {
   "codemirror_mode": {
    "name": "ipython",
    "version": 3
   },
   "file_extension": ".py",
   "mimetype": "text/x-python",
   "name": "python",
   "nbconvert_exporter": "python",
   "pygments_lexer": "ipython3",
   "version": "3.10.4"
  }
 },
 "nbformat": 4,
 "nbformat_minor": 2
}
