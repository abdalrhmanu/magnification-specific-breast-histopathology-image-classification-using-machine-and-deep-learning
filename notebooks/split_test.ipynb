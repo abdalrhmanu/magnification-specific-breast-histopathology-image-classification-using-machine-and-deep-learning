{
 "cells": [
  {
   "cell_type": "code",
   "execution_count": 7,
   "metadata": {},
   "outputs": [],
   "source": [
    "import os\n",
    "import shutil\n",
    "import pandas as pd\n",
    "import random\n",
    "\n",
    "\n",
    "def get_files_for_magnification(src_dir,magnification):\n",
    "    result = []\n",
    "    folder = []\n",
    "    for root, dirs, files in os.walk(src_dir):\n",
    "        for directory in dirs:\n",
    "            if directory.endswith(magnification):\n",
    "                folder_path = os.path.join(root, directory)\n",
    "                folder.append(directory)\n",
    "                for file_name in os.listdir(folder_path):\n",
    "                    file_path = os.path.join(folder_path, file_name)\n",
    "                    result.append(file_path)\n",
    "    \n",
    "    return result,folder\n",
    "\n",
    "def search_label_in_array(dir_array,label):\n",
    "    list = []\n",
    "    for i in range(0,len(dir_array)):\n",
    "        if dir_array[i].__contains__(label):\n",
    "            list.append(dir_array[i])\n",
    "    return list\n",
    "\n",
    "def split_directories(dir_list):\n",
    "    random.shuffle(dir_list)\n",
    "    random.shuffle(dir_list)\n",
    "    random.shuffle(dir_list)\n",
    "    \n",
    "    len_50 = round(len(dir_list)*0.5)\n",
    "    len_30 = round(len(dir_list)*0.30)\n",
    "    \n",
    "    train = dir_list[0:len_50]\n",
    "    test  = dir_list[len_50:len_50+len_30]\n",
    "    validation = dir_list[len_50+len_30:len(dir_list)]\n",
    "    \n",
    "    return train, validation, test\n",
    "\n",
    "\n",
    "    "
   ]
  },
  {
   "cell_type": "code",
   "execution_count": 8,
   "metadata": {},
   "outputs": [
    {
     "name": "stdout",
     "output_type": "stream",
     "text": [
      "Length of adenosis_400X: 106\n",
      "['papillary_carcinoma', 'ductal_carcinoma', 'mucinous_carcinoma', 'lobular_carcinoma', ['adenosis', 'tubular_adenoma', 'fibroadenoma', 'phyllodes_tumor']]\n"
     ]
    }
   ],
   "source": [
    "magnification = \"400X\"\n",
    "home_dir = os.path.join(os.getcwd(), os.path.dirname(\"../BreaKHis_v1/histology_slides/breast/\"))\n",
    "result,folder = get_files_for_magnification(home_dir,magnification)\n",
    "\n",
    "benign = os.listdir(os.path.join(os.getcwd(), os.path.dirname(\"../BreaKHis_v1/histology_slides/breast/benign/SOB/\")))\n",
    "malignant = os.listdir(os.path.join(os.getcwd(), os.path.dirname(\"../BreaKHis_v1/histology_slides/breast/malignant/SOB/\")))\n",
    "\n",
    "malignant.append(benign)\n",
    "\n",
    "\n",
    "adenosis_100X = search_label_in_array(result,'adenosis')\n",
    "\n",
    "print('Length of adenosis_{}: {}'.format(magnification,len(adenosis_100X)))\n",
    "\n",
    "train,validation,test = split_directories(adenosis_100X)\n",
    "\n",
    "\n",
    "print(malignant)\n",
    "\n"
   ]
  }
 ],
 "metadata": {
  "kernelspec": {
   "display_name": "Python 3",
   "language": "python",
   "name": "python3"
  },
  "language_info": {
   "codemirror_mode": {
    "name": "ipython",
    "version": 3
   },
   "file_extension": ".py",
   "mimetype": "text/x-python",
   "name": "python",
   "nbconvert_exporter": "python",
   "pygments_lexer": "ipython3",
   "version": "3.10.6"
  },
  "orig_nbformat": 4
 },
 "nbformat": 4,
 "nbformat_minor": 2
}
