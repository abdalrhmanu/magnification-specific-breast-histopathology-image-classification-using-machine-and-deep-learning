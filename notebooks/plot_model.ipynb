{
 "cells": [
  {
   "cell_type": "code",
   "execution_count": 8,
   "metadata": {},
   "outputs": [],
   "source": [
    "import sys\n",
    "sys.path.append(r'..\\\\helpers')\n",
    "\n",
    "from model import DenseNetModel\n",
    "import tensorflow as tf\n",
    "from tensorflow.keras.utils import plot_model\n",
    "import pydotplus\n"
   ]
  },
  {
   "cell_type": "code",
   "execution_count": 35,
   "metadata": {},
   "outputs": [],
   "source": [
    "# def plot_model_layers(model_instance):\n",
    "#     model = model_instance.model()\n",
    "#     plot_model(model, to_file='model_layers.png', show_shapes=True)\n",
    "\n",
    "\n",
    "from tensorflow.keras.utils import model_to_dot\n",
    "\n",
    "# def plot_model_layers(model_instance):\n",
    "#     model = model_instance.model()\n",
    "\n",
    "#     # Convert the model to a PyDot graph\n",
    "#     dot_graph = model_to_dot(model, show_shapes=True, expand_nested=True)\n",
    "\n",
    "#     # Get the DOT data as a string\n",
    "#     dot_data = dot_graph.to_string()\n",
    "\n",
    "#     # Combine the initial DenseNet169 model as a single block\n",
    "#     dense_block = 'DenseNet169 [shape=box, style=filled, fillcolor=lightgray];'\n",
    "#     dot_data = dot_data.replace('input_1 ->', dense_block + '\\ninput_1 ->')\n",
    "#     dot_data = dot_data.replace('{rank=same; input_1;', '{rank=same; DenseNet169; input_1;')\n",
    "\n",
    "#     # Create the graph from the modified DOT data\n",
    "#     graph = pydotplus.graph_from_dot_data(dot_data)\n",
    "\n",
    "#     # Save the graph as an image file\n",
    "#     graph.write_png('model_layers.png')\n",
    "\n",
    "\n",
    "# def plot_model_layers(model_instance):\n",
    "#     model = model_instance.model()\n",
    "\n",
    "#     # Convert the model to a PyDot graph\n",
    "#     dot_graph = model_to_dot(model, show_shapes=True, expand_nested=True)\n",
    "\n",
    "#     # Get the DOT data as a string\n",
    "#     dot_data = dot_graph.to_string()\n",
    "\n",
    "#     # Modify the DOT data to combine the layers of the original DenseNet169 model as a single block\n",
    "#     dot_data = dot_data.replace('input_1 ->', 'DenseNet169 [shape=box, style=filled, fillcolor=lightgray];\\ninput_1 ->')\n",
    "\n",
    "#     # Create the graph from the modified DOT data\n",
    "#     graph = pydotplus.graph_from_dot_data(dot_data)\n",
    "\n",
    "#     # Save the graph as an image file\n",
    "#     graph.write_png('model_layers.png')\n",
    "\n",
    "def plot_model_layers(model_instance):\n",
    "    model = model_instance.model()\n",
    "\n",
    "    # Convert the model to a PyDot graph\n",
    "    dot_graph = model_to_dot(model, show_shapes=True, expand_nested=False)\n",
    "\n",
    "    # Get the DOT data as a string\n",
    "    dot_data = dot_graph.to_string()\n",
    "\n",
    "    # Find the start and end positions of the DenseNet169 layers in the DOT data\n",
    "    start_pos = dot_data.find('DenseNet169/conv1/conv1_')\n",
    "    end_pos = dot_data.find('input_1 ->', start_pos)\n",
    "\n",
    "    # Remove the DenseNet169 layers from the DOT data\n",
    "    dot_data = dot_data[:start_pos] + dot_data[end_pos:]\n",
    "\n",
    "    # Create the graph from the modified DOT data\n",
    "    graph = pydotplus.graph_from_dot_data(dot_data)\n",
    "\n",
    "    # Save the graph as an image file\n",
    "    graph.write_png('model_layers.png')\n",
    "\n",
    "\n",
    "\n",
    "# def plot_model_layers(model_instance):\n",
    "#     model = model_instance.model()\n",
    "#     plot_model(model, to_file='model_layers.png', show_shapes=True, expand_nested=True, dpi=96)\n"
   ]
  },
  {
   "cell_type": "code",
   "execution_count": 36,
   "metadata": {},
   "outputs": [
    {
     "name": "stderr",
     "output_type": "stream",
     "text": [
      "\u001b[32m2023-06-06 22:38:49.995\u001b[0m | \u001b[1mINFO    \u001b[0m | \u001b[36mmodel\u001b[0m:\u001b[36m__init__\u001b[0m:\u001b[36m15\u001b[0m - \u001b[1mClass Initialized: {'num_classes': 8, 'input_shape': (224, 224, 3)}\u001b[0m\n"
     ]
    },
    {
     "name": "stdout",
     "output_type": "stream",
     "text": [
      "dot: graph is too large for cairo-renderer bitmaps. Scaling by 0.465579 to fit\r\n",
      "\n"
     ]
    }
   ],
   "source": [
    "densenet_model = DenseNetModel(\n",
    "            num_classes = 8,\n",
    "            input_shape = (224, 224,3)\n",
    "        )\n",
    "\n",
    "plot_model_layers(densenet_model)\n"
   ]
  },
  {
   "cell_type": "code",
   "execution_count": null,
   "metadata": {},
   "outputs": [],
   "source": []
  }
 ],
 "metadata": {
  "kernelspec": {
   "display_name": "Python 3 (ipykernel)",
   "language": "python",
   "name": "python3"
  },
  "language_info": {
   "codemirror_mode": {
    "name": "ipython",
    "version": 3
   },
   "file_extension": ".py",
   "mimetype": "text/x-python",
   "name": "python",
   "nbconvert_exporter": "python",
   "pygments_lexer": "ipython3",
   "version": "3.10.4"
  }
 },
 "nbformat": 4,
 "nbformat_minor": 2
}
